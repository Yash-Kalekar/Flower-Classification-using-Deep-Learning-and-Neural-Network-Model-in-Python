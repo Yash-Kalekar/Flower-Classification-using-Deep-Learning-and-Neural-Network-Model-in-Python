{
 "cells": [
  {
   "cell_type": "code",
   "execution_count": 1,
   "id": "fd707ac8-8a66-46ab-b607-be99acf03ab0",
   "metadata": {},
   "outputs": [],
   "source": [
    "#Importing Libraries\n",
    "import os\n",
    "import numpy as np\n",
    "\n",
    "import tensorflow as tf\n",
    "from tensorflow.keras import layers\n",
    "from tensorflow.keras.preprocessing.image import load_img, ImageDataGenerator\n",
    "from tensorflow.keras.models import Sequential, load_model\n",
    "from tensorflow.keras.layers import Conv2D, MaxPooling2D, Dense, Dropout, Flatten\n"
   ]
  },
  {
   "cell_type": "code",
   "execution_count": 2,
   "id": "967bfff5-6c5e-44cd-a143-0fdf4ca66a86",
   "metadata": {},
   "outputs": [
    {
     "name": "stdout",
     "output_type": "stream",
     "text": [
      "daisy Folder has 764 Images\n",
      "dandelion Folder has 1052 Images\n",
      "rose Folder has 784 Images\n",
      "sunflower Folder has 733 Images\n",
      "tulip Folder has 984 Images\n",
      "Images Folder has 4317 Images\n"
     ]
    }
   ],
   "source": [
    "#Fetch Images count from Fodlers\n",
    "\n",
    "count = 0 \n",
    "dirs = os.listdir('Images/')\n",
    "for dir in dirs:\n",
    "    files = list(os.listdir('Images/'+dir))\n",
    "    print( dir +' Folder has '+ str(len(files)) + ' Images')\n",
    "    count = count + len(files)\n",
    "print( 'Images Folder has '+ str(count) + ' Images')"
   ]
  },
  {
   "cell_type": "code",
   "execution_count": 3,
   "id": "5323f871-2b13-4895-9ff7-53b46b71359f",
   "metadata": {},
   "outputs": [],
   "source": [
    "#Load Images into Arrays as Dataset\n",
    "\n",
    "base_dir = 'Images/'\n",
    "img_size = 180\n",
    "batch = 32"
   ]
  },
  {
   "cell_type": "code",
   "execution_count": 4,
   "id": "0063ba11-0bd8-458d-90cb-fdb33614af11",
   "metadata": {},
   "outputs": [
    {
     "name": "stdout",
     "output_type": "stream",
     "text": [
      "Found 4317 files belonging to 5 classes.\n",
      "Using 3454 files for training.\n",
      "Found 4317 files belonging to 5 classes.\n",
      "Using 863 files for validation.\n"
     ]
    }
   ],
   "source": [
    "train_ds = tf.keras.utils.image_dataset_from_directory( base_dir,\n",
    "                                                       seed = 123,\n",
    "                                                       validation_split=0.2,\n",
    "                                                       subset = 'training',\n",
    "                                                       batch_size=batch,\n",
    "                                                       image_size=(img_size,img_size))\n",
    "\n",
    "val_ds = tf.keras.utils.image_dataset_from_directory( base_dir,\n",
    "                                                       seed = 123,\n",
    "                                                       validation_split=0.2,\n",
    "                                                       subset = 'validation',\n",
    "                                                       batch_size=batch,\n",
    "                                                       image_size=(img_size,img_size))"
   ]
  },
  {
   "cell_type": "code",
   "execution_count": null,
   "id": "55b14159-bbbf-4400-a327-c4821b1702ec",
   "metadata": {},
   "outputs": [],
   "source": []
  }
 ],
 "metadata": {
  "kernelspec": {
   "display_name": "Python 3 (ipykernel)",
   "language": "python",
   "name": "python3"
  },
  "language_info": {
   "codemirror_mode": {
    "name": "ipython",
    "version": 3
   },
   "file_extension": ".py",
   "mimetype": "text/x-python",
   "name": "python",
   "nbconvert_exporter": "python",
   "pygments_lexer": "ipython3",
   "version": "3.11.4"
  }
 },
 "nbformat": 4,
 "nbformat_minor": 5
}
